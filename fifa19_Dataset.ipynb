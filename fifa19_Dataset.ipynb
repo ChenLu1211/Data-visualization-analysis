{
 "cells": [
  {
   "cell_type": "code",
   "execution_count": 1,
   "metadata": {},
   "outputs": [],
   "source": [
    "# init import\n",
    "import findspark\n",
    "import pyspark\n",
    "from pyspark.sql import functions as F\n",
    "from pyspark.sql.functions import UserDefinedFunction\n",
    "from pyspark.sql import SparkSession\n",
    "from pyspark import SparkContext\n",
    "from pyspark import SparkConf\n",
    "import seaborn as sns\n",
    "\n",
    "\n",
    "import matplotlib.pyplot as plt\n",
    "import numpy as np\n",
    "\n",
    "from matplotlib.pyplot import figure\n",
    "from pyspark.ml.linalg import Vectors\n",
    "from pyspark.ml.feature import VectorAssembler\n",
    "from pyspark.ml.regression import LinearRegression\n",
    "from pyspark.ml.evaluation import RegressionEvaluator\n",
    "from pyspark.sql.types import DoubleType,IntegerType\n",
    "from pyspark.sql.functions import corr\n",
    "\n",
    "\n",
    "plt.style.use(\"seaborn-whitegrid\")\n"
   ]
  },
  {
   "cell_type": "code",
   "execution_count": 2,
   "metadata": {},
   "outputs": [],
   "source": [
    "# init spark\n",
    "findspark.init()\n",
    "findspark.find()\n",
    "sc = SparkContext(appName=\"Ex01\",master=\"local[*]\")\n",
    "spark = SparkSession(sc)"
   ]
  },
  {
   "cell_type": "code",
   "execution_count": 3,
   "metadata": {},
   "outputs": [],
   "source": [
    "dataFile = spark.read.csv("/kaggle/input/fifa19/data.csv",inferSchema=True,header=True)\n",
    "\n",
    "# drop unwant data like GK and incomplete data\n",
    "dataFile = dataFile.drop(\"Release Clause\",\"Loaned From\",\"Contract Valid Until\",\"Joined\",\"Jersey Number\",\"Real Face\",'Photo','Flag','Club Logo','Club')\n",
    "dataFile = dataFile.na.drop()\n",
    "\n",
    "dataFile = dataFile.withColumn('Wage', 1000 * F.regexp_extract(\"Wage\", \"(\\d+)\",1))\n",
    "dataFile = dataFile.withColumn('Weight', F.regexp_extract(\"Weight\", \"(\\d+)\",1).cast(IntegerType()))\n",
    "dataFile = dataFile.withColumn('ValueType', F.regexp_extract(\"Value\", \"([M,K])\",1)).withColumn('Value', F.regexp_extract(\"Value\", \"([0-9\\.]+)\",1).cast(DoubleType()))\n",
    "dataFile = dataFile.withColumn('Value', F.when(dataFile.ValueType == \"K\",1000 * dataFile.Value).otherwise(dataFile.Value * 1000 * 1000)).drop('ValueType')\n",
    "dataFile.createOrReplaceTempView(\"fifaTable\")\n",
    "# dataFile.count(), len(dataFile.columns), type(dataFile)\n",
    "# dataFile.printSchema()"
   ]
  },
  {
   "cell_type": "code",
   "execution_count": 4,
   "metadata": {
    "scrolled": true
   },
   "outputs": [
    {
     "name": "stdout",
     "output_type": "stream",
     "text": [
      "+------+-----------------+\n",
      "|Weight|avg(Acceleration)|\n",
      "+------+-----------------+\n",
      "|   110|             78.0|\n",
      "|   115|             68.0|\n",
      "|   117|72.66666666666667|\n",
      "|   119|             67.0|\n",
      "|   121|             74.4|\n",
      "|   123|75.33333333333333|\n",
      "|   126|73.57142857142857|\n",
      "|   128|76.12903225806451|\n",
      "|   130|75.42424242424242|\n",
      "|   132|            75.12|\n",
      "|   134|74.65517241379311|\n",
      "|   137|74.98181818181818|\n",
      "|   139|74.09803921568627|\n",
      "|   141|73.46273291925466|\n",
      "|   143|73.63855421686748|\n",
      "|   146|73.75757575757575|\n",
      "|   148|72.24305555555556|\n",
      "|   150|72.82235834609494|\n",
      "|   152|72.52351738241309|\n",
      "|   154|71.30829756795423|\n",
      "|   157|71.27392739273927|\n",
      "|   159|70.68196721311476|\n",
      "|   161|70.36607142857143|\n",
      "|   163|69.46207701283548|\n",
      "|   165|67.99561403508773|\n",
      "|   168|67.74668435013263|\n",
      "|   170|67.62165605095541|\n",
      "|   172|65.81639722863741|\n",
      "|   174|64.67479674796748|\n",
      "|   176|63.77684964200478|\n",
      "+------+-----------------+\n",
      "only showing top 30 rows\n",
      "\n"
     ]
    }
   ],
   "source": [
    "#Distributions in relation to two interesting columns\n",
    "#Acceleration VS Weight:\n",
    "table1= dataFile.groupby('Weight').agg({'Acceleration': 'mean'})\n",
    "table1 = table1.orderBy('Weight', ascending=True)\n",
    "table1.filter(\"Weight is not null\").show(30)\n",
    "#ניתן לראות שכככל שהמשקל עולה , רמת התאוצה יורדת כפי ששיערנו"
   ]
  },
  {
   "cell_type": "code",
   "execution_count": 5,
   "metadata": {},
   "outputs": [
    {
     "name": "stdout",
     "output_type": "stream",
     "text": [
      "+--------------+-----+\n",
      "|Preferred Foot|count|\n",
      "+--------------+-----+\n",
      "|          Left| 4003|\n",
      "|         Right|12119|\n",
      "+--------------+-----+\n",
      "\n"
     ]
    }
   ],
   "source": [
    "#Preferred Foot for kicking in front of player rating:\n",
    "table2= dataFile.groupby('Preferred Foot').count()\n",
    "table2.filter(table2[\"Preferred Foot\"].isNotNull()).show()\n",
    "#ניתן לראות כי יש רוב מוחלט של שחקנים שמעדיפים את רגל ימין \n",
    "# אך יש מספר לא מבוטל של שחקנים שמעדיפים לבעוט ברגל שמאל"
   ]
  },
  {
   "cell_type": "code",
   "execution_count": 6,
   "metadata": {},
   "outputs": [
    {
     "data": {
      "text/plain": [
       "[<matplotlib.lines.Line2D at 0x16b2f8d7b20>]"
      ]
     },
     "execution_count": 6,
     "metadata": {},
     "output_type": "execute_result"
    },
    {
     "data": {
      "image/png": "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\n",
      "text/plain": [
       "<Figure size 432x288 with 1 Axes>"
      ]
     },
     "metadata": {},
     "output_type": "display_data"
    }
   ],
   "source": [
    "# 1) plot - Age VS Overall\n",
    "tableAvgOverallToAge = spark.sql(\"SELECT Age, avg(Overall) FROM fifaTable group by(Age) order by(Age)\")\n",
    "arrAge = [row[0] for row in tableAvgOverallToAge.select('Age').collect()]\n",
    "arrOverall = [row[0] for row in tableAvgOverallToAge.select('avg(Overall)').collect()]\n",
    "plt.xlabel(\"Age\")\n",
    "plt.ylabel(\"Overall\")\n",
    "plt.plot(arrAge,arrOverall)\n",
    "#ניתן להסיק שהדירוג של השחקנים בגיל צעיר עוד לפני שצברו ניסיון ירוד ולאחריו כאשר השחקן מגיע לגיל אחרי מספר שנים \n",
    "#הדירוג שלו עולה ולאחר מכן כשהוא מתבגר הדירוג יורד "
   ]
  },
  {
   "cell_type": "code",
   "execution_count": 7,
   "metadata": {},
   "outputs": [
    {
     "data": {
      "text/plain": [
       "[<matplotlib.lines.Line2D at 0x16b2fc18580>]"
      ]
     },
     "execution_count": 7,
     "metadata": {},
     "output_type": "execute_result"
    },
    {
     "data": {
      "image/png": "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\n",
      "text/plain": [
       "<Figure size 432x288 with 1 Axes>"
      ]
     },
     "metadata": {},
     "output_type": "display_data"
    }
   ],
   "source": [
    "# Distributions in relation to two interesting columns\n",
    "# 2) plot - Wage VS Overall משכורת VS דירוג\n",
    "\n",
    "tableOverallToWage = spark.sql(\"SELECT Overall, avg(Wage) FROM fifaTable group by(Overall) order by(Overall)\")\n",
    "arrOverall = [row[0] for row in tableOverallToWage.select('Overall').collect()]\n",
    "arrWage = [row[0] for row in tableOverallToWage.select(\"avg(Wage)\").collect()]\n",
    "\n",
    "plt.xlabel(\"Overall\")\n",
    "plt.ylabel(\"Wage\")\n",
    "plt.plot(arrOverall, arrWage)\n",
    "#ניתן להסיק שככל שדירוג השחקן גבוהה יותר כך גם השכר של אותו שחקן גבוהה יותר משל שחקנים בעלי דירוג נמוך"
   ]
  },
  {
   "cell_type": "code",
   "execution_count": 8,
   "metadata": {},
   "outputs": [
    {
     "name": "stdout",
     "output_type": "stream",
     "text": [
      "+--------+--------------------+\n",
      "|Position|collect_list(Weight)|\n",
      "+--------+--------------------+\n",
      "|      RF|[159, 134, 165, 1...|\n",
      "|      LF|[163, 165, 150, 1...|\n",
      "|      LW|[150, 130, 174, 1...|\n",
      "|      RS|[190, 209, 159, 1...|\n",
      "|      LS|[170, 196, 190, 1...|\n",
      "|      CF|[163, 134, 172, 1...|\n",
      "|      ST|[183, 176, 196, 1...|\n",
      "+--------+--------------------+\n",
      "\n"
     ]
    },
    {
     "data": {
      "image/png": "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\n",
      "text/plain": [
       "<Figure size 432x288 with 1 Axes>"
      ]
     },
     "metadata": {},
     "output_type": "display_data"
    },
    {
     "data": {
      "text/plain": [
       "<Figure size 648x432 with 0 Axes>"
      ]
     },
     "metadata": {},
     "output_type": "display_data"
    }
   ],
   "source": [
    "#box  - Position & Weight\n",
    "tableWeightToPosition = spark.sql(\"SELECT Position, Weight FROM fifaTable Where Position='LS' OR Position='ST' OR Position='RS' OR Position='LW' OR Position='LF' OR Position='CF' OR Position='RF'\")\n",
    "tableWeightToPosition = tableWeightToPosition.groupBy(\"Position\").agg(F.collect_list(\"Weight\"))\n",
    "tableWeightToPosition.show()\n",
    "matrixWeight = [weight[1] for weight in tableWeightToPosition.collect()]\n",
    "plt.xlabel(\"Position\")\n",
    "plt.ylabel(\"Weight(lbs)\")\n",
    "\n",
    "plt.boxplot(matrixWeight)\n",
    "plt.xticks([1, 2, 3 ,4 ,5 ,6 ,7 ], ['RF','CF','LF','LW','RS','ST','LS'])\n",
    "plt.figure(figsize = (9,6))\n",
    "\n",
    "plt.show()\n",
    "#ניתן להסיק שהמשקל של שחקני ההתקפה עומד על אותו ממוצע גם בין התפקידים השונים - התקפה ימני, התקפה שמאלי, התקפה קדמי וכו'...\n",
    "#RS,LS שחקני כנף הם בעלי המשקל הגבוהה מבין שאר שחקני ההתקפה"
   ]
  },
  {
   "cell_type": "code",
   "execution_count": 9,
   "metadata": {},
   "outputs": [
    {
     "data": {
      "text/plain": [
       "Text(0.5, 1.0, 'Density plot - Aggression & Position')"
      ]
     },
     "execution_count": 9,
     "metadata": {},
     "output_type": "execute_result"
    },
    {
     "data": {
      "image/png": "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\n",
      "text/plain": [
       "<Figure size 432x288 with 1 Axes>"
      ]
     },
     "metadata": {},
     "output_type": "display_data"
    }
   ],
   "source": [
    "# DensityPlot \n",
    "tableAttacks = spark.sql(\"SELECT Aggression FROM fifaTable Where Position='LS' OR Position='ST' OR Position='RS' OR Position='LW' OR Position='LF' OR Position='CF' OR Position='RF' order by Aggression\").collect()\n",
    "tableConnections = spark.sql(\"SELECT Aggression FROM fifaTable Where Position='LAM' OR Position='CAM' OR Position='RAM' OR Position='LM' OR Position='LCM' OR Position='CM' OR Position='RCM' OR Position='LWB' OR Position='CDM' order by Aggression\").collect()\n",
    "tableDefenders = spark.sql(\"SELECT Aggression FROM fifaTable Where Position='LB' OR Position='LCB' OR Position='CB' OR Position='RCB' OR Position='RB' order by Aggression\").collect()\n",
    "\n",
    "aggressionAttack = [row[0] for row in tableAttacks]\n",
    "aggressionConnection = [row[0] for row in tableConnections]\n",
    "aggressionDefender = [row[0] for row in tableDefenders]\n",
    "\n",
    "names = ['Attack', 'Connection', 'Defeders']\n",
    "allArrays = [aggressionAttack, aggressionConnection, aggressionDefender]\n",
    "\n",
    "sns.kdeplot(data=allArrays, shade = True, label=names)\n",
    "plt.legend(names, ncol=1, loc='upper right')\n",
    "plt.xlabel(\"Aggression\")\n",
    "plt.title(\"Density plot - Aggression & Position\")\n",
    "\n",
    "#ניתן להסיק ששחקני ההתקפה אכן משחקים יותר אגרסיבי משחקני קישור והגנה\n",
    "# בנוסף ניתן לראות ששחקני קישור משחקים יותר תוקפני משחקני הגנה"
   ]
  },
  {
   "cell_type": "code",
   "execution_count": 10,
   "metadata": {},
   "outputs": [
    {
     "data": {
      "image/png": "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\n",
      "text/plain": [
       "<Figure size 432x288 with 1 Axes>"
      ]
     },
     "metadata": {},
     "output_type": "display_data"
    }
   ],
   "source": [
    "#scatter plot - Stamina & Age\n",
    "tableStaminaFromAge = spark.sql(\"SELECT Stamina, Age FROM fifaTable WHERE Overall > 75\")\n",
    "arrStamina = [row[0] for row in tableStaminaFromAge.select('Stamina').collect()]\n",
    "arrAge = [row[0] for row in tableStaminaFromAge.select('Age').collect()]\n",
    "\n",
    "plt.scatter(arrAge, arrStamina,s=10)\n",
    "plt.xlabel(\"Age\")\n",
    "plt.ylabel(\"Stamina\")\n",
    "plt.title(\"Scatter plot - Stamina & Age\")\n",
    "plt.show()\n",
    "#רצינו להראות את הקשר בין סיבולת לב ריאה לגיל עבור שחקים עם דירוג גבוהה\n",
    "#אכן ניתן לראות שבגילאים 22-32 שזהו שיא הקריירה עבור כדורגלן עם דירוג גבוה סיבולת לב ריאה של  רוב השחקנים גבוה לעומת הגילאים האחרים\n",
    "#נוסף ניתן לראות שהדירוג הגבוה של רוב השחקנים הוא בין השנים הללו כי ההתפלגות בשנים מסביב נמוכה יותר עבור דירוג של 75 ומעלה"
   ]
  },
  {
   "cell_type": "code",
   "execution_count": 22,
   "metadata": {},
   "outputs": [
    {
     "name": "stdout",
     "output_type": "stream",
     "text": [
      "+-------------------+--------+\n",
      "|        Nationality|count(1)|\n",
      "+-------------------+--------+\n",
      "|            England|    1483|\n",
      "|            Germany|    1031|\n",
      "|              Spain|     955|\n",
      "|          Argentina|     839|\n",
      "|             France|     810|\n",
      "|             Brazil|     757|\n",
      "|              Italy|     607|\n",
      "|           Colombia|     564|\n",
      "|              Japan|     417|\n",
      "|        Netherlands|     396|\n",
      "|             Sweden|     350|\n",
      "|              Chile|     346|\n",
      "|           China PR|     337|\n",
      "|Republic of Ireland|     329|\n",
      "|             Mexico|     319|\n",
      "|             Norway|     310|\n",
      "|            Denmark|     300|\n",
      "|     Korea Republic|     293|\n",
      "|           Portugal|     290|\n",
      "|       Saudi Arabia|     290|\n",
      "|             Poland|     289|\n",
      "|      United States|     281|\n",
      "|           Scotland|     262|\n",
      "|             Turkey|     256|\n",
      "|            Austria|     252|\n",
      "|            Belgium|     219|\n",
      "|          Australia|     207|\n",
      "|        Switzerland|     187|\n",
      "|            Uruguay|     137|\n",
      "|            Senegal|     122|\n",
      "|            Nigeria|     120|\n",
      "|             Serbia|     117|\n",
      "|              Wales|     115|\n",
      "|            Croatia|     113|\n",
      "|              Ghana|     110|\n",
      "|        Ivory Coast|      96|\n",
      "|           Cameroon|      85|\n",
      "|             Greece|      85|\n",
      "|     Czech Republic|      84|\n",
      "|           Paraguay|      81|\n",
      "|            Morocco|      80|\n",
      "|   Northern Ireland|      72|\n",
      "|             Russia|      65|\n",
      "|       South Africa|      64|\n",
      "|            Ukraine|      63|\n",
      "|          Venezuela|      62|\n",
      "|            Finland|      59|\n",
      "| Bosnia Herzegovina|      56|\n",
      "|             Canada|      55|\n",
      "|            Algeria|      55|\n",
      "|           DR Congo|      50|\n",
      "|            Romania|      49|\n",
      "|           Slovenia|      49|\n",
      "|            Iceland|      44|\n",
      "|               Mali|      41|\n",
      "|            Ecuador|      40|\n",
      "|           Slovakia|      40|\n",
      "|            Albania|      37|\n",
      "|        New Zealand|      37|\n",
      "|            Hungary|      33|\n",
      "|               Peru|      33|\n",
      "|             Kosovo|      32|\n",
      "|            Jamaica|      31|\n",
      "|             Guinea|      30|\n",
      "|            Tunisia|      30|\n",
      "|              Egypt|      28|\n",
      "|         Costa Rica|      28|\n",
      "|           Bulgaria|      27|\n",
      "|            Georgia|      25|\n",
      "|              Congo|      24|\n",
      "|            Bolivia|      22|\n",
      "|              India|      20|\n",
      "|         Montenegro|      20|\n",
      "|         Cape Verde|      19|\n",
      "|      FYR Macedonia|      17|\n",
      "|      Guinea Bissau|      15|\n",
      "|             Panama|      15|\n",
      "|             Angola|      15|\n",
      "|       Burkina Faso|      15|\n",
      "|           Honduras|      15|\n",
      "|              Gabon|      14|\n",
      "|             Gambia|      14|\n",
      "|               Iran|      14|\n",
      "|             Israel|      13|\n",
      "|              Benin|      13|\n",
      "|           Zimbabwe|      13|\n",
      "|         Madagascar|      12|\n",
      "|            Curacao|      12|\n",
      "|               Togo|      12|\n",
      "|            Estonia|      10|\n",
      "|            Armenia|      10|\n",
      "|              Kenya|      10|\n",
      "|              Haiti|      10|\n",
      "|             Zambia|       9|\n",
      "|              Syria|       9|\n",
      "|         Luxembourg|       8|\n",
      "|             Cyprus|       8|\n",
      "|               Iraq|       7|\n",
      "|          Lithuania|       7|\n",
      "|      Faroe Islands|       6|\n",
      "+-------------------+--------+\n",
      "only showing top 100 rows\n",
      "\n"
     ]
    }
   ],
   "source": [
    "#Aggregation according to country of origin of the players\n",
    "tablePlayerToCountry = spark.sql(\"SELECT Nationality,COUNT(*) FROM fifaTable group by(Nationality)\")\n",
    "tablePlayerToCountry.orderBy(\"count(1)\", ascending=False).show(100)\n",
    "\n",
    "#ניתן לראות שרוב השחקנים הם מאנגליה, גרמניה וספרד\n",
    "#ניתן להסיק מכך שמדינות אלו מטפחות את ענף הכדורגל ומשקיעות בו ובכך יוצאים משם המון שחקנים"
   ]
  },
  {
   "cell_type": "code",
   "execution_count": 12,
   "metadata": {},
   "outputs": [
    {
     "name": "stdout",
     "output_type": "stream",
     "text": [
      "+---+------------------+\n",
      "|Age|    avg(Composure)|\n",
      "+---+------------------+\n",
      "| 16|48.026315789473685|\n",
      "| 17|       49.76953125|\n",
      "| 18| 50.60307692307693|\n",
      "| 19| 51.83982683982684|\n",
      "| 20|54.198214285714286|\n",
      "| 21| 56.45952380952381|\n",
      "| 22|  57.8174133558749|\n",
      "| 23| 59.33501259445844|\n",
      "| 24|60.779967159277504|\n",
      "| 25| 61.73203719357566|\n",
      "| 26| 62.76553894571204|\n",
      "| 27| 63.22478386167147|\n",
      "| 28| 64.21965897693079|\n",
      "| 29|  64.1304347826087|\n",
      "| 30| 65.25755743651753|\n",
      "| 31| 66.37037037037037|\n",
      "| 32|  66.5274949083503|\n",
      "| 33| 66.77456647398844|\n",
      "| 34|  67.6547619047619|\n",
      "| 35| 67.36690647482014|\n",
      "+---+------------------+\n",
      "only showing top 20 rows\n",
      "\n"
     ]
    },
    {
     "data": {
      "image/png": "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\n",
      "text/plain": [
       "<Figure size 432x288 with 1 Axes>"
      ]
     },
     "metadata": {},
     "output_type": "display_data"
    }
   ],
   "source": [
    "# contains more numerical columns that we will explore further.\n",
    "#Age VS Composure\n",
    "t1= dataFile.groupby('Age').agg({'Composure': 'mean'})\n",
    "t1= t1.filter(t1[\"Age\"].isNotNull())\n",
    "t1 = t1.orderBy('Age',ascending=True)\n",
    "\n",
    "t1.show(20)\n",
    "t1 = t1.toPandas()\n",
    "p= t1.plot.bar(x='Age', y='avg(Composure)')\n",
    "plt.xlabel(\"Age\")\n",
    "plt.ylabel(\"Composure\")\n",
    "display()\n",
    "\n",
    "\n",
    "#ניתן להסיק כי ככל שהשחקן מבוגר יותר, הוא רגוע יותר על המגרש,\n",
    "#שחקנים צעירים נוטים להיות תוקפניים יותר"
   ]
  },
  {
   "cell_type": "code",
   "execution_count": 23,
   "metadata": {},
   "outputs": [
    {
     "name": "stdout",
     "output_type": "stream",
     "text": [
      "+---------+------------------+\n",
      "|Dribbling|  avg(BallControl)|\n",
      "+---------+------------------+\n",
      "|       14|              49.0|\n",
      "|       16|              37.5|\n",
      "|       17|55.333333333333336|\n",
      "|       18|              49.2|\n",
      "|       19|              42.0|\n",
      "|       20|              38.4|\n",
      "|       21|42.285714285714285|\n",
      "|       22|              41.5|\n",
      "|       23|  41.6551724137931|\n",
      "|       24|40.666666666666664|\n",
      "|       25| 40.68518518518518|\n",
      "|       26|40.129629629629626|\n",
      "|       27|42.476190476190474|\n",
      "|       28| 41.16949152542373|\n",
      "|       29| 42.44827586206897|\n",
      "|       30| 42.59090909090909|\n",
      "|       31|44.729729729729726|\n",
      "|       32| 47.28260869565217|\n",
      "|       33| 45.96774193548387|\n",
      "|       34|             48.45|\n",
      "+---------+------------------+\n",
      "only showing top 20 rows\n",
      "\n"
     ]
    },
    {
     "data": {
      "image/png": "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\n",
      "text/plain": [
       "<Figure size 720x720 with 1 Axes>"
      ]
     },
     "metadata": {},
     "output_type": "display_data"
    }
   ],
   "source": [
    "#Dribbling VS Ball control\n",
    "\n",
    "t2 = spark.sql(\"SELECT Dribbling, avg(BallControl) FROM fifaTable group by(Dribbling) order by(Dribbling)\")\n",
    "arrDrib = [row[0] for row in t2.select('Dribbling').collect()]\n",
    "arrBallControl = [row[0] for row in t2.select('avg(BallControl)').collect()]\n",
    "plt.figure(figsize=(10,10))\n",
    "\n",
    "plt.xlabel(\"Dribbling\")\n",
    "plt.ylabel(\"BallControl\")\n",
    "plt.bar(arrDrib,arrBallControl,width=0.5)\n",
    "\n",
    "# plt.show()\n",
    "\n",
    "#ניתן להסיק כי מהירות כדרור בהכרח תורמת לשליטת השחקן בכדור,\n",
    "t2.show()"
   ]
  },
  {
   "cell_type": "code",
   "execution_count": 14,
   "metadata": {},
   "outputs": [
    {
     "name": "stdout",
     "output_type": "stream",
     "text": [
      "+-------+-----------------+\n",
      "|Agility|    avg(Strength)|\n",
      "+-------+-----------------+\n",
      "|     23|             79.5|\n",
      "|     25|             86.0|\n",
      "|     27|             85.5|\n",
      "|     28|80.14285714285714|\n",
      "|     29|84.07692307692308|\n",
      "|     30|82.21212121212122|\n",
      "|     31|82.29787234042553|\n",
      "|     32|84.82352941176471|\n",
      "|     33|83.43103448275862|\n",
      "|     34|81.91666666666667|\n",
      "|     35|79.44444444444444|\n",
      "|     36|           79.125|\n",
      "|     37|             78.8|\n",
      "|     38|80.79591836734694|\n",
      "|     39|76.88636363636364|\n",
      "|     40|76.82432432432432|\n",
      "|     41|74.68831168831169|\n",
      "|     42|75.09756097560975|\n",
      "|     43|74.97872340425532|\n",
      "|     44|75.26086956521739|\n",
      "+-------+-----------------+\n",
      "only showing top 20 rows\n",
      "\n"
     ]
    },
    {
     "data": {
      "image/png": "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\n",
      "text/plain": [
       "<Figure size 720x720 with 1 Axes>"
      ]
     },
     "metadata": {},
     "output_type": "display_data"
    }
   ],
   "source": [
    "#Agility VS Strength\n",
    "\n",
    "t3 = spark.sql(\"SELECT Agility, avg(Strength) FROM fifaTable group by(Agility) order by(Agility)\")\n",
    "arrAgility = [row[0] for row in t3.select('Agility').collect()]\n",
    "arrStrength = [row[0] for row in t3.select('avg(Strength)').collect()]\n",
    "plt.figure(figsize=(10,10))\n",
    "\n",
    "plt.xlabel(\"Agility\")\n",
    "plt.ylabel(\"Strength\")\n",
    "plt.bar(arrAgility,arrStrength,width=0.5)\n",
    "\n",
    "t3.show(20)\n",
    "\n",
    "\n",
    "#ניתן לראות שיש קשר חלש בין זריזות השחקנים לכוחם"
   ]
  },
  {
   "cell_type": "code",
   "execution_count": 15,
   "metadata": {},
   "outputs": [
    {
     "name": "stdout",
     "output_type": "stream",
     "text": [
      "+------------+------------------+\n",
      "|Acceleration|      avg(Agility)|\n",
      "+------------+------------------+\n",
      "|          20|              23.0|\n",
      "|          22|              41.0|\n",
      "|          24|              27.0|\n",
      "|          26|              37.0|\n",
      "|          27|41.666666666666664|\n",
      "|          28|             37.75|\n",
      "|          29|              36.5|\n",
      "|          30|             36.65|\n",
      "|          31|           39.8125|\n",
      "|          32|42.422222222222224|\n",
      "|          33|41.958333333333336|\n",
      "|          34|46.515151515151516|\n",
      "|          35| 45.42307692307692|\n",
      "|          36| 43.72727272727273|\n",
      "|          37|48.705882352941174|\n",
      "|          38|              48.0|\n",
      "|          39|46.904761904761905|\n",
      "|          40| 49.84782608695652|\n",
      "|          41|48.020833333333336|\n",
      "|          42|46.228070175438596|\n",
      "+------------+------------------+\n",
      "only showing top 20 rows\n",
      "\n"
     ]
    },
    {
     "data": {
      "image/png": "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\n",
      "text/plain": [
       "<Figure size 720x720 with 1 Axes>"
      ]
     },
     "metadata": {},
     "output_type": "display_data"
    }
   ],
   "source": [
    "#Agility VS Acceleration (תאוצה מול זריזות)\n",
    "\n",
    "t4 = spark.sql(\"SELECT Acceleration, avg(Agility) FROM fifaTable group by(Acceleration) order by(Acceleration)\")\n",
    "t4.show()\n",
    "arrAcceleration = [row[0] for row in t4.select('Acceleration').collect()]\n",
    "arrAgility = [row[0] for row in t4.select('avg(Agility)').collect()]\n",
    "plt.figure(figsize=(10,10))\n",
    "plt.xlabel(\"Acceleration\")\n",
    "plt.ylabel(\"Agility\")\n",
    "plt.bar(arrAcceleration,arrAgility)\n",
    "plt.show()\n",
    "#ניתן להסיק כי יש קשר חד משמעי בין זריזות השחקן על המגרש לבין התאוצה"
   ]
  },
  {
   "cell_type": "code",
   "execution_count": 16,
   "metadata": {},
   "outputs": [
    {
     "name": "stdout",
     "output_type": "stream",
     "text": [
      "+--------+------------------+\n",
      "|Strength|   avg(Aggression)|\n",
      "+--------+------------------+\n",
      "|      25|              53.0|\n",
      "|      26|              26.0|\n",
      "|      27|              45.5|\n",
      "|      28|            40.125|\n",
      "|      29|             41.75|\n",
      "|      30| 40.68571428571428|\n",
      "|      31|              45.0|\n",
      "|      32| 44.34920634920635|\n",
      "|      33| 46.55555555555556|\n",
      "|      34| 46.20779220779221|\n",
      "|      35| 43.73809523809524|\n",
      "|      36| 44.65217391304348|\n",
      "|      37|45.111111111111114|\n",
      "|      38|43.289855072463766|\n",
      "|      39| 45.64705882352941|\n",
      "|      40| 45.06666666666667|\n",
      "|      41| 45.95402298850575|\n",
      "|      42|              43.8|\n",
      "|      43| 46.26851851851852|\n",
      "|      44|  47.4954128440367|\n",
      "+--------+------------------+\n",
      "only showing top 20 rows\n",
      "\n"
     ]
    },
    {
     "data": {
      "text/plain": [
       "Text(0, 0.5, 'Aggression')"
      ]
     },
     "execution_count": 16,
     "metadata": {},
     "output_type": "execute_result"
    },
    {
     "data": {
      "image/png": "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\n",
      "text/plain": [
       "<Figure size 720x720 with 1 Axes>"
      ]
     },
     "metadata": {},
     "output_type": "display_data"
    }
   ],
   "source": [
    "# Strength VS Aggression\n",
    "\n",
    "t5 = spark.sql(\"SELECT Strength, avg(Aggression) FROM fifaTable group by(Strength) order by(Strength)\")\n",
    "t5.show()\n",
    "arrStrength = [row[0] for row in t5.select('Strength').collect()]\n",
    "arrAggression = [row[0] for row in t5.select('avg(Aggression)').collect()]\n",
    "plt.figure(figsize=(10,10))\n",
    "plt.bar(arrStrength,arrAggression)\n",
    "plt.xlabel(\"Strength\")\n",
    "plt.ylabel(\"Aggression\")\n",
    "# plt.show()\n",
    "#חשבנו כי ככל שהשחקן יותר תוקפני יש לו יותר כוח, אך ניתן לראות כי שחקן תוקפני ממוצע הוא בכל כוחות גדולים יותר במגרש\n",
    "#ניתן לראות שיש קשר חלש בין הכוח השחקנים לאגרסיביות על המגרש"
   ]
  },
  {
   "cell_type": "code",
   "execution_count": 17,
   "metadata": {},
   "outputs": [
    {
     "name": "stdout",
     "output_type": "stream",
     "text": [
      "+------------+---+-------+----------+-----------+---------+---------+-------+--------+-------+-----------+------+--------+------------------------+---------+-------+--------------------+\n",
      "|Acceleration|Age|Agility|Aggression|BallControl|Composure|Dribbling|Overall|    Wage|  Value|Skill Moves|Weight|Strength|International Reputation|Potential|Stamina|          Attributes|\n",
      "+------------+---+-------+----------+-----------+---------+---------+-------+--------+-------+-----------+------+--------+------------------------+---------+-------+--------------------+\n",
      "|          91| 31|     91|        48|         96|       96|       97|     94|565000.0|1.105E8|          4|   159|      59|                       5|       94|     72|[91.0,31.0,91.0,4...|\n",
      "|          89| 33|     87|        63|         94|       95|       88|     94|405000.0|  7.7E7|          5|   183|      79|                       5|       94|     88|[89.0,33.0,87.0,6...|\n",
      "|          94| 26|     96|        56|         95|       94|       96|     92|290000.0|1.185E8|          5|   150|      49|                       5|       93|     81|[94.0,26.0,96.0,5...|\n",
      "|          78| 27|     79|        76|         91|       88|       86|     91|355000.0| 1.02E8|          4|   154|      75|                       4|       92|     90|[78.0,27.0,79.0,7...|\n",
      "|          94| 27|     95|        54|         94|       91|       95|     91|340000.0|  9.3E7|          4|   163|      66|                       4|       91|     83|[94.0,27.0,95.0,5...|\n",
      "|          80| 32|     93|        62|         93|       84|       90|     91|420000.0|  6.7E7|          4|   146|      58|                       4|       91|     89|[80.0,32.0,93.0,6...|\n",
      "|          86| 31|     82|        87|         90|       85|       87|     91|455000.0|  8.0E7|          3|   190|      83|                       5|       91|     90|[86.0,31.0,82.0,8...|\n",
      "|          76| 32|     78|        88|         84|       82|       63|     91|380000.0|  5.1E7|          3|   181|      83|                       4|       91|     84|[76.0,32.0,78.0,8...|\n",
      "|          77| 29|     78|        80|         89|       86|       85|     90|205000.0|  7.7E7|          4|   176|      84|                       4|       90|     78|[77.0,29.0,78.0,8...|\n",
      "|          64| 28|     70|        60|         90|       85|       81|     90|355000.0| 7.65E7|          3|   168|      73|                       4|       90|     75|[64.0,28.0,70.0,6...|\n",
      "|          68| 32|     58|        89|         76|       82|       53|     90|125000.0|  4.4E7|          2|   172|      88|                       3|       90|     66|[68.0,32.0,58.0,8...|\n",
      "|          70| 32|     92|        57|         94|       93|       89|     90|285000.0|  6.0E7|          4|   148|      52|                       4|       90|     78|[70.0,32.0,92.0,5...|\n",
      "|          82| 27|     82|        90|         80|       85|       79|     89|225000.0|  6.3E7|          2|   159|      76|                       3|       90|     96|[82.0,27.0,82.0,9...|\n",
      "|          87| 24|     91|        48|         92|       84|       92|     89|205000.0|  8.9E7|          4|   165|      65|                       3|       94|     80|[87.0,24.0,91.0,4...|\n",
      "|          68| 24|     71|        76|         84|       89|       80|     89|205000.0| 8.35E7|          3|   196|      84|                       3|       91|     89|[68.0,24.0,71.0,7...|\n",
      "|          88| 27|     90|        69|         90|       87|       88|     89|145000.0|  7.8E7|          4|   161|      62|                       4|       90|     83|[88.0,27.0,90.0,6...|\n",
      "|          50| 29|     66|        85|         88|       90|       80|     89|315000.0| 5.15E7|          3|   168|      77|                       4|       89|     86|[50.0,29.0,66.0,8...|\n",
      "|          75| 31|     77|        84|         82|       82|       80|     89|200000.0|  6.0E7|          3|   170|      78|                       4|       89|     92|[75.0,31.0,77.0,8...|\n",
      "|          88| 30|     86|        65|         89|       90|       89|     89|300000.0| 6.45E7|          4|   154|      73|                       4|       89|     76|[88.0,30.0,86.0,6...|\n",
      "|          63| 33|     54|        92|         57|       84|       58|     89|215000.0|  2.7E7|          2|   187|      89|                       4|       89|     65|[63.0,33.0,54.0,9...|\n",
      "+------------+---+-------+----------+-----------+---------+---------+-------+--------+-------+-----------+------+--------+------------------------+---------+-------+--------------------+\n",
      "only showing top 20 rows\n",
      "\n"
     ]
    }
   ],
   "source": [
    "# data(VectorAssembler) we look for for prediction\n",
    "\n",
    "df1 = dataFile.select('Acceleration','Age','Agility','Aggression','BallControl','Composure','Dribbling','Overall','Wage','Value','Skill Moves','Weight','Strength','International Reputation',\"Potential\",'Stamina')\n",
    "assembler = VectorAssembler(inputCols=['Acceleration','Age','Agility','Aggression','BallControl','Composure','Dribbling','Overall','Wage','Value','Skill Moves','Weight','Strength','International Reputation','Stamina'], outputCol = 'Attributes')\n",
    "output = assembler.transform(df1)\n",
    "output.show()\n",
    "\n",
    "\n",
    "# data we want to predict taken from the table\n",
    "finalized_data = output.select(\"Attributes\",\"Potential\")\n",
    "# 20% - test ,80% - training data\n",
    "\n",
    "train_data,test_data = finalized_data.randomSplit([0.8,0.2])\n",
    "# לקחנו את הנתונים הרלוונטים יצרנו וקטור חילקנו את הנתונים ל 80% למידה ו 20% בדיקה"
   ]
  },
  {
   "cell_type": "code",
   "execution_count": 18,
   "metadata": {},
   "outputs": [],
   "source": [
    "# אימנו את המידע\n",
    "# הריגרסיה הלינארית מחשבת את פוטנציאל אל מול העמודות שבחרנו\n",
    "regressor = LinearRegression(featuresCol = 'Attributes', labelCol = 'Potential')\n",
    "model = regressor.fit(train_data)\n",
    "# יצרנו מודל על ידי המידע שמוגדר לאימון"
   ]
  },
  {
   "cell_type": "code",
   "execution_count": 19,
   "metadata": {},
   "outputs": [],
   "source": [
    "# מחשבים מה הערכים העתידים של המידע על המידע מה 20% שהוא לבדיקה\n",
    "pred = model.evaluate(test_data)"
   ]
  },
  {
   "cell_type": "code",
   "execution_count": 20,
   "metadata": {},
   "outputs": [
    {
     "name": "stdout",
     "output_type": "stream",
     "text": [
      "RMSE: 2.417055268691324\n",
      "MSE: 5.842156171908488\n",
      "R2: 0.8456204357210191\n"
     ]
    }
   ],
   "source": [
    "# deffrence between test value to real value\n",
    "print(\"RMSE: {}\".format(pred.rootMeanSquaredError))\n",
    "#\n",
    "print(\"MSE: {}\".format(pred.meanSquaredError)) \n",
    "# \n",
    "print(\"R2: {}\".format(pred.r2))"
   ]
  },
  {
   "cell_type": "code",
   "execution_count": 21,
   "metadata": {},
   "outputs": [
    {
     "name": "stdout",
     "output_type": "stream",
     "text": [
      "+------------------------+\n",
      "|corr(Potential, Overall)|\n",
      "+------------------------+\n",
      "|      0.6503822819703003|\n",
      "+------------------------+\n",
      "\n",
      "+----------------------------+\n",
      "|corr(Potential, BallControl)|\n",
      "+----------------------------+\n",
      "|          0.5210805883122706|\n",
      "+----------------------------+\n",
      "\n",
      "+---------------------+\n",
      "|corr(Potential, Wage)|\n",
      "+---------------------+\n",
      "|  0.48554669223136493|\n",
      "+---------------------+\n",
      "\n",
      "+--------------------------+\n",
      "|corr(Potential, Composure)|\n",
      "+--------------------------+\n",
      "|        0.4700644760499649|\n",
      "+--------------------------+\n",
      "\n"
     ]
    }
   ],
   "source": [
    "# בדיקת קורולציה בין עמודות\n",
    "df1.select(corr('Potential','Overall')).show()\n",
    "df1.select(corr('Potential','BallControl')).show()\n",
    "df1.select(corr('Potential','Wage')).show()\n",
    "df1.select(corr('Potential','Composure')).show()"
   ]
  },
  {
   "cell_type": "code",
   "execution_count": null,
   "metadata": {},
   "outputs": [],
   "source": []
  }
 ],
 "metadata": {
  "kernelspec": {
   "display_name": "Python 3",
   "language": "python",
   "name": "python3"
  },
  "language_info": {
   "codemirror_mode": {
    "name": "ipython",
    "version": 3
   },
   "file_extension": ".py",
   "mimetype": "text/x-python",
   "name": "python",
   "nbconvert_exporter": "python",
   "pygments_lexer": "ipython3",
   "version": "3.8.5"
  }
 },
 "nbformat": 4,
 "nbformat_minor": 4
}
